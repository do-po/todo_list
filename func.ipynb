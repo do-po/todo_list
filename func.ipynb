{
 "cells": [
  {
   "cell_type": "code",
   "execution_count": 1,
   "metadata": {},
   "outputs": [],
   "source": [
    "from database import MyDB\n",
    "from dotenv import load_dotenv\n",
    "import os"
   ]
  },
  {
   "cell_type": "code",
   "execution_count": 2,
   "metadata": {},
   "outputs": [],
   "source": [
    "db = MyDB()"
   ]
  },
  {
   "cell_type": "markdown",
   "metadata": {},
   "source": [
    "## db에 저장하는 기능들을 모아둔 섹션"
   ]
  },
  {
   "cell_type": "markdown",
   "metadata": {},
   "source": [
    "### 테이블에 데이터를 저장"
   ]
  },
  {
   "cell_type": "code",
   "execution_count": 4,
   "metadata": {},
   "outputs": [],
   "source": [
    "def save_data(_data:dict, _table):\n",
    "\n",
    "    # _data의 각 key:value에 대해 반복\n",
    "    for key, val in _data.items():\n",
    "        \n",
    "        # sql 쿼리 작성\n",
    "        query = f'''\n",
    "        SELECT\n",
    "        `{key}`\n",
    "        FROM\n",
    "        `{_table}`\n",
    "        INSERT\n",
    "        {val}\n",
    "        '''\n",
    "    \n",
    "    # MyDB 모듈로 query 실행\n",
    "    result = db.sql_query(query)\n",
    "    \n",
    "    return result"
   ]
  },
  {
   "cell_type": "markdown",
   "metadata": {},
   "source": [
    "## DB에서 데이터를 받아오는 기능들을 모아둔 섹션"
   ]
  },
  {
   "cell_type": "markdown",
   "metadata": {},
   "source": [
    "### 유저의 특성에 맞는 가중치를 SQL에서 받아온다"
   ]
  },
  {
   "cell_type": "code",
   "execution_count": 5,
   "metadata": {},
   "outputs": [],
   "source": [
    "def get_weight(_user:dict, _table):\n",
    "\n",
    "    # 빈 리스트를 생성하여 조건문을 저장\n",
    "    condition_list = []\n",
    "\n",
    "    # _user의 각 key에 대해 반복\n",
    "    for key in _user.keys():\n",
    "        \n",
    "        # 각 key에 대해 \"key = %s\" 형식의 문자열을 생성하여 리스트에 추가\n",
    "        condition = f\"{key} = %s\"\n",
    "        condition_list.append(condition)\n",
    "\n",
    "    # 리스트의 모든 문자열을 \" AND \"로 연결하여 query 생성\n",
    "    conditions = \" AND \".join(condition_list)\n",
    "\n",
    "    # sql 쿼리 실행\n",
    "    query = f'''\n",
    "    SELECT\n",
    "    *\n",
    "    FROM\n",
    "    `{_table}`\n",
    "    WHERE\n",
    "    {conditions}\n",
    "    '''\n",
    "\n",
    "    # MyDB 모듈로 query 실행\n",
    "    result = db.sql_query(query, *list(_user.values()))\n",
    "\n",
    "    return result"
   ]
  },
  {
   "cell_type": "markdown",
   "metadata": {},
   "source": [
    "## 계산하는 기능들을 모아둔 섹션"
   ]
  },
  {
   "cell_type": "markdown",
   "metadata": {},
   "source": [
    "### 가중치에 따라 우선순위를 매긴다"
   ]
  },
  {
   "cell_type": "code",
   "execution_count": null,
   "metadata": {},
   "outputs": [],
   "source": [
    "def weight_cal()"
   ]
  }
 ],
 "metadata": {
  "kernelspec": {
   "display_name": "Python 3",
   "language": "python",
   "name": "python3"
  },
  "language_info": {
   "codemirror_mode": {
    "name": "ipython",
    "version": 3
   },
   "file_extension": ".py",
   "mimetype": "text/x-python",
   "name": "python",
   "nbconvert_exporter": "python",
   "pygments_lexer": "ipython3",
   "version": "3.12.2"
  }
 },
 "nbformat": 4,
 "nbformat_minor": 2
}
