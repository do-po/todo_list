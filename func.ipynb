{
 "cells": [
  {
   "cell_type": "code",
   "execution_count": 1,
   "metadata": {},
   "outputs": [],
   "source": [
    "from database import MyDB\n",
    "from dotenv import load_dotenv\n",
    "import os"
   ]
  },
  {
   "cell_type": "markdown",
   "metadata": {},
   "source": [
    "## db에 저장하는 기능들을 모아둔 섹션"
   ]
  },
  {
   "cell_type": "markdown",
   "metadata": {},
   "source": [
    "### user_info에 데이터를 저장"
   ]
  },
  {
   "cell_type": "code",
   "execution_count": 2,
   "metadata": {},
   "outputs": [],
   "source": [
    "db = MyDB()"
   ]
  },
  {
   "cell_type": "code",
   "execution_count": 4,
   "metadata": {},
   "outputs": [],
   "source": [
    "def save_user_info(_user_id, _password, _age, _gender, _job, _mbti):\n",
    "    _user = {\n",
    "        \"user_id\": _user_id,\n",
    "        \"password\": _password,\n",
    "        \"gender\": _gender,\n",
    "        \"age\": _age,\n",
    "        \"job\": _job,\n",
    "        \"mbti\": _mbti\n",
    "    }\n",
    "\n",
    "    for key, value in _user.items():\n",
    "        query = f'''\n",
    "        SELECT\n",
    "        `{key}`\n",
    "        FROM\n",
    "        `user_info`\n",
    "        INSERT\n",
    "        {value}\n",
    "        '''\n",
    "        return db.sql_query(query)"
   ]
  },
  {
   "cell_type": "markdown",
   "metadata": {},
   "source": [
    "### schedule_1에 데이터를 저장"
   ]
  },
  {
   "cell_type": "markdown",
   "metadata": {},
   "source": [
    "## DB에서 데이터를 받아오는 기능들을 모아둔 섹션"
   ]
  },
  {
   "cell_type": "markdown",
   "metadata": {},
   "source": [
    "### 유저의 특성에 맞는 base 가중치를 SQL에서 받아온다"
   ]
  },
  {
   "cell_type": "code",
   "execution_count": 5,
   "metadata": {},
   "outputs": [],
   "source": [
    "def base_weight(_user, _feature, _table):\n",
    "\n",
    "    # 변수 설정\n",
    "    user_val = _user[_feature]\n",
    "\n",
    "    query = f'''\n",
    "    SELECT\n",
    "    {_feature}\n",
    "    FROM\n",
    "    `{_table}`\n",
    "    where\n",
    "    {_feature} = {user_val}\n",
    "    '''\n",
    "\n",
    "    return db.sql_query(query)"
   ]
  },
  {
   "cell_type": "markdown",
   "metadata": {},
   "source": [
    "## 계산하는 기능들을 모아둔 섹션"
   ]
  },
  {
   "cell_type": "markdown",
   "metadata": {},
   "source": [
    "### 가중치에 따라 우선순위를 매긴다"
   ]
  },
  {
   "cell_type": "code",
   "execution_count": null,
   "metadata": {},
   "outputs": [],
   "source": []
  }
 ],
 "metadata": {
  "kernelspec": {
   "display_name": "Python 3",
   "language": "python",
   "name": "python3"
  },
  "language_info": {
   "codemirror_mode": {
    "name": "ipython",
    "version": 3
   },
   "file_extension": ".py",
   "mimetype": "text/x-python",
   "name": "python",
   "nbconvert_exporter": "python",
   "pygments_lexer": "ipython3",
   "version": "3.12.2"
  }
 },
 "nbformat": 4,
 "nbformat_minor": 2
}
