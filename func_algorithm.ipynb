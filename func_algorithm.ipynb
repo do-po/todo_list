{
 "cells": [
  {
   "cell_type": "markdown",
   "metadata": {},
   "source": [
    "### 유저에게 gender, age, job, mbti 수집하여 dict와(이건 혹시 몰라서 넣어둔 거) db에 넣어두기"
   ]
  },
  {
   "cell_type": "code",
   "execution_count": 2,
   "metadata": {},
   "outputs": [],
   "source": [
    "from database import MyDB\n",
    "from dotenv import load_dotenv\n",
    "import os"
   ]
  },
  {
   "cell_type": "code",
   "execution_count": 3,
   "metadata": {},
   "outputs": [],
   "source": [
    "db = MyDB()"
   ]
  },
  {
   "cell_type": "code",
   "execution_count": 5,
   "metadata": {},
   "outputs": [],
   "source": [
    "def base(_user_id, _gender, _age, _job, _mbti):\n",
    "    _user = {\n",
    "        user_id : _user_id,\n",
    "        gender : _gender,\n",
    "        age : _age,\n",
    "        job : _job,\n",
    "        mbti : _mbti}\n",
    "    \n",
    "    q_user_id = f'''\n",
    "    SELECT\n",
    "    `user_id`\n",
    "    FROM\n",
    "    `todo`\n",
    "    INSERT\n",
    "    {_user_id}\n",
    "    '''\n",
    "\n",
    "    q_user_gender = f'''\n",
    "    SELECT\n",
    "    `gender`\n",
    "    FROM\n",
    "    `todo`\n",
    "    INSERT\n",
    "    {_gender}\n",
    "    '''\n",
    "\n",
    "    q_user_age = f'''\n",
    "    SELECT\n",
    "    `age`\n",
    "    FROM\n",
    "    `todo`\n",
    "    INSERT\n",
    "    {_age}\n",
    "    '''\n",
    "\n",
    "    q_user_job = f'''\n",
    "    SELECT\n",
    "    `job`\n",
    "    FROM\n",
    "    `todo`\n",
    "    INSERT\n",
    "    {_job}\n",
    "    '''\n",
    "\n",
    "    q_user_mbti = f'''\n",
    "    SELECT\n",
    "    `mbti`\n",
    "    FROM\n",
    "    `todo`\n",
    "    INSERT\n",
    "    {_mbti}\n",
    "    '''\n",
    "\n",
    "    db.sql_query(q_user_id)\n",
    "    db.sql_query(q_user_gender)\n",
    "    db.sql_query(q_user_age)\n",
    "    db.sql_query(q_user_job)\n",
    "    db.sql_query(q_user_mbti)\n",
    "    \n",
    "    "
   ]
  },
  {
   "cell_type": "code",
   "execution_count": null,
   "metadata": {},
   "outputs": [],
   "source": []
  }
 ],
 "metadata": {
  "kernelspec": {
   "display_name": "Python 3",
   "language": "python",
   "name": "python3"
  },
  "language_info": {
   "codemirror_mode": {
    "name": "ipython",
    "version": 3
   },
   "file_extension": ".py",
   "mimetype": "text/x-python",
   "name": "python",
   "nbconvert_exporter": "python",
   "pygments_lexer": "ipython3",
   "version": "3.12.2"
  }
 },
 "nbformat": 4,
 "nbformat_minor": 2
}
