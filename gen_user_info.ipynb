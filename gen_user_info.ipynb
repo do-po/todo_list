{
 "cells": [
  {
   "cell_type": "markdown",
   "metadata": {},
   "source": [
    "## User_info를 이미 생성된 schedule_2에서 받아서 만들어 주는 코드|"
   ]
  },
  {
   "cell_type": "code",
   "execution_count": 1,
   "metadata": {},
   "outputs": [
    {
     "name": "stdout",
     "output_type": "stream",
     "text": [
      "Resulting number of rows: 116745\n"
     ]
    }
   ],
   "source": [
    "import pandas as pd\n",
    "\n",
    "# 파일 경로 설정\n",
    "file_path = './refer/output/'\n",
    "schedule_2_path = f'{file_path}schedule_2.csv'\n",
    "user_info_output_path = f'{file_path}user_info.csv'\n",
    "\n",
    "# schedule_2.csv 파일 불러오기\n",
    "schedule_2 = pd.read_csv(schedule_2_path)\n",
    "\n",
    "# 필요한 컬럼들 추출\n",
    "user_info_columns = [\"user_id\", \"password\", \"age\", \"gender\", \"mbti\", \"job\"]\n",
    "user_info = schedule_2[user_info_columns]\n",
    "\n",
    "# 결과 저장\n",
    "user_info.to_csv(user_info_output_path, index=False)\n",
    "print(f\"Resulting number of rows: {user_info.shape[0]}\")\n"
   ]
  },
  {
   "cell_type": "code",
   "execution_count": null,
   "metadata": {},
   "outputs": [],
   "source": []
  }
 ],
 "metadata": {
  "kernelspec": {
   "display_name": "Python 3",
   "language": "python",
   "name": "python3"
  },
  "language_info": {
   "codemirror_mode": {
    "name": "ipython",
    "version": 3
   },
   "file_extension": ".py",
   "mimetype": "text/x-python",
   "name": "python",
   "nbconvert_exporter": "python",
   "pygments_lexer": "ipython3",
   "version": "3.12.2"
  }
 },
 "nbformat": 4,
 "nbformat_minor": 2
}
