{
 "cells": [
  {
   "cell_type": "markdown",
   "metadata": {},
   "source": [
    "## 이미 만들어진 schedule_2에서 user_weight 값 가져오기"
   ]
  },
  {
   "cell_type": "code",
   "execution_count": 2,
   "metadata": {},
   "outputs": [
    {
     "name": "stdout",
     "output_type": "stream",
     "text": [
      "Resulting number of rows: 116745\n"
     ]
    }
   ],
   "source": [
    "import pandas as pd\n",
    "\n",
    "# 파일 경로 설정\n",
    "file_path = './refer/output/'\n",
    "schedule_2_path = f'{file_path}schedule_2.csv'\n",
    "user_weight_output_path = f'{file_path}user_weight.csv'\n",
    "\n",
    "# schedule_2.csv 파일 불러오기\n",
    "schedule_2 = pd.read_csv(schedule_2_path)\n",
    "\n",
    "# 필요한 컬럼들 추출\n",
    "user_weight_columns = [\"user_weight_no\", \"work\", \"edu\", \"free_time\", \"health\", \"chores\", \"category_else\"]\n",
    "user_weight = schedule_2[user_weight_columns]\n",
    "\n",
    "# 결과 저장\n",
    "user_weight.to_csv(user_weight_output_path, index=False)\n",
    "print(f\"Resulting number of rows: {user_weight.shape[0]}\")\n"
   ]
  },
  {
   "cell_type": "code",
   "execution_count": null,
   "metadata": {},
   "outputs": [],
   "source": []
  }
 ],
 "metadata": {
  "kernelspec": {
   "display_name": "Python 3",
   "language": "python",
   "name": "python3"
  },
  "language_info": {
   "codemirror_mode": {
    "name": "ipython",
    "version": 3
   },
   "file_extension": ".py",
   "mimetype": "text/x-python",
   "name": "python",
   "nbconvert_exporter": "python",
   "pygments_lexer": "ipython3",
   "version": "3.12.2"
  }
 },
 "nbformat": 4,
 "nbformat_minor": 2
}
