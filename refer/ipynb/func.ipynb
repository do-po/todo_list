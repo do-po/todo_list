{
 "cells": [
  {
   "cell_type": "code",
   "execution_count": 1,
   "metadata": {},
   "outputs": [],
   "source": [
    "from refer.module.database import MyDB\n",
    "from dotenv import load_dotenv\n",
    "import os"
   ]
  },
  {
   "cell_type": "code",
   "execution_count": 2,
   "metadata": {},
   "outputs": [],
   "source": [
    "db = MyDB()"
   ]
  },
  {
   "cell_type": "markdown",
   "metadata": {},
   "source": [
    "## db에 저장하는 기능들을 모아둔 섹션"
   ]
  },
  {
   "cell_type": "markdown",
   "metadata": {},
   "source": [
    "### 테이블에 데이터를 저장"
   ]
  },
  {
   "cell_type": "code",
   "execution_count": 4,
   "metadata": {},
   "outputs": [],
   "source": [
    "def save_data(_data:dict, _table):\n",
    "\n",
    "    # sql 쿼리 작성\n",
    "    query = f'''\n",
    "    INSERT\n",
    "    INTO\n",
    "    `{_table}`\n",
    "    ({','.join(tuple(_data.keys()))})\n",
    "    VALUES\n",
    "    ({','.join(tuple(_data.values()))})\n",
    "    '''\n",
    "    print(query)\n",
    "    # MyDB 모듈로 query 실행\n",
    "    result = db.sql_query(query)\n",
    "    \n",
    "    return result"
   ]
  },
  {
   "cell_type": "markdown",
   "metadata": {},
   "source": [
    "## DB에서 데이터를 받아오는 기능들을 모아둔 섹션"
   ]
  },
  {
   "cell_type": "markdown",
   "metadata": {},
   "source": [
    "### 유저의 속성에 맞는 가중치를 SQL에서 받아온다"
   ]
  },
  {
   "cell_type": "code",
   "execution_count": 1,
   "metadata": {},
   "outputs": [],
   "source": [
    "def get_data(_user:dict, _table = 'base_weight'):\n",
    "\n",
    "    # 빈 리스트를 생성하여 조건문을 저장\n",
    "    condition_list = []\n",
    "\n",
    "    # _user의 각 key에 대해 반복\n",
    "    for key in _user.keys():\n",
    "        \n",
    "        # 각 key에 대해 'key = %s' 형식의 문자열을 생성하여 리스트에 추가\n",
    "        condition = f'{key} = %s'\n",
    "        condition_list.append(condition)\n",
    "\n",
    "    # 리스트의 모든 문자열을 \" AND \"로 연결하여 query 생성\n",
    "    conditions = \" AND \".join(condition_list)\n",
    "\n",
    "    # sql 쿼리 실행\n",
    "    query = f'''\n",
    "    SELECT\n",
    "    {','.join(_user.keys())}\n",
    "    FROM\n",
    "    `{_table}`\n",
    "    WHERE\n",
    "    {conditions}\n",
    "    '''\n",
    "\n",
    "    # MyDB 모듈로 query 실행\n",
    "    result = db.sql_query(query, *list(_user.values()))\n",
    "\n",
    "    # 가중치를 저장할 dict와 list 생성\n",
    "    data = {}\n",
    "    weights = []\n",
    "\n",
    "    # query 결과를 가중치 list에 저장\n",
    "    weights.append(result)\n",
    "\n",
    "        # query 결과를 처리\n",
    "    if result:  # 결과가 존재하면\n",
    "        # 첫 번째 행의 결과만 사용, _user의 각 키에 대응하는 값을 저장\n",
    "        first_result = result[0]\n",
    "        for key in _user.keys():\n",
    "            data[key] = first_result[key]\n",
    "    else:\n",
    "        # 결과가 없는 경우, 기본값 또는 오류 처리를 할 수 있음\n",
    "        print(\"No data found matching the criteria.\")\n",
    "\n",
    "    # 만들어진 가중치 dict를 반환\n",
    "    return data"
   ]
  },
  {
   "cell_type": "code",
   "execution_count": null,
   "metadata": {},
   "outputs": [],
   "source": []
  }
 ],
 "metadata": {
  "kernelspec": {
   "display_name": "Python 3",
   "language": "python",
   "name": "python3"
  },
  "language_info": {
   "codemirror_mode": {
    "name": "ipython",
    "version": 3
   },
   "file_extension": ".py",
   "mimetype": "text/x-python",
   "name": "python",
   "nbconvert_exporter": "python",
   "pygments_lexer": "ipython3",
   "version": "3.12.2"
  }
 },
 "nbformat": 4,
 "nbformat_minor": 2
}
