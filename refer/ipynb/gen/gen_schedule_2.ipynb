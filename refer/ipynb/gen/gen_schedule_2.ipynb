{
 "cells": [
  {
   "cell_type": "markdown",
   "metadata": {},
   "source": [
    "## Survey 오버샘플링 데이터로 schedule_2 만들기"
   ]
  },
  {
   "cell_type": "markdown",
   "metadata": {},
   "source": [
    "### base_weight 만들어두기 (오버 샘플링 된 데이터들에 base_weight_no 만들어 주고 그 값들에 대한 weight로 받아오는 식)"
   ]
  },
  {
   "cell_type": "code",
   "execution_count": 3,
   "metadata": {},
   "outputs": [
    {
     "name": "stdout",
     "output_type": "stream",
     "text": [
      "Resulting number of rows: 116745\n"
     ]
    }
   ],
   "source": [
    "import pandas as pd\n",
    "import random\n",
    "import string\n",
    "from datetime import datetime, timedelta\n",
    "\n",
    "# 주어진 함수들 정의\n",
    "def generate_user_id(length=10):\n",
    "    return ''.join(random.choices(string.ascii_letters + string.digits, k=length))\n",
    "\n",
    "def generate_password(length=12):\n",
    "    return ''.join(random.choices(string.ascii_letters + string.digits + string.punctuation, k=length))\n",
    "\n",
    "def generate_user_goal(length=10):\n",
    "    return ''.join(random.choices(string.ascii_letters + string.digits, k=length))\n",
    "\n",
    "def generate_goal_complexity():\n",
    "    return random.randint(1, 5)\n",
    "\n",
    "def generate_goal_times():\n",
    "    start_time = datetime.now() + timedelta(days=random.randint(1, 30))  # 현재로부터 1일에서 30일 이내의 미래 시간\n",
    "    end_time = start_time + timedelta(days=random.randint(1, 30))  # start_time 이후 1일에서 30일 이내의 미래 시간\n",
    "    return start_time.strftime('%Y-%m-%d'), end_time.strftime('%Y-%m-%d')\n",
    "\n",
    "def generate_record_time():\n",
    "    return (datetime.now() - timedelta(days=random.randint(0, 30))).strftime('%Y-%m-%d %H:%M:%S')  # 현재로부터 30일 이내의 과거 시간\n",
    "\n",
    "# 파일 경로 설정\n",
    "file_path = './refer/output/'\n",
    "data_path = f'{file_path}user_data_ranked_v1.csv'\n",
    "output_path = f'{file_path}schedule_2.csv'\n",
    "\n",
    "# CSV 파일 불러오기\n",
    "user_data = pd.read_csv(data_path)\n",
    "\n",
    "# 제외할 컬럼들\n",
    "exclude_columns = [\"age\", \"gender\", \"mbti\", \"job\"]\n",
    "\n",
    "# 제외할 컬럼들을 제거한 데이터프레임 생성\n",
    "schedule_2 = user_data.drop(columns=exclude_columns)\n",
    "\n",
    "# 랜덤 데이터 생성\n",
    "schedule_2['user_id'] = [generate_user_id() for _ in range(len(schedule_2))]\n",
    "schedule_2['password'] = [generate_password() for _ in range(len(schedule_2))]\n",
    "schedule_2['user_goal'] = [generate_user_goal() for _ in range(len(schedule_2))]\n",
    "schedule_2['goal_complexity'] = [generate_goal_complexity() for _ in range(len(schedule_2))]\n",
    "goal_times = [generate_goal_times() for _ in range(len(schedule_2))]\n",
    "schedule_2['goal_start_time'], schedule_2['goal_end_time'] = zip(*goal_times)\n",
    "schedule_2['record_time'] = [generate_record_time() for _ in range(len(schedule_2))]\n",
    "\n",
    "# user_weight_no 컬럼 추가 및 인덱싱\n",
    "schedule_2['user_weight_no'] = range(1, len(schedule_2) + 1)\n",
    "\n",
    "# 새로운 schedule_2.csv 저장\n",
    "schedule_2.to_csv(output_path, index=False)\n",
    "print(f\"Resulting number of rows: {schedule_2.shape[0]}\")\n"
   ]
  },
  {
   "cell_type": "code",
   "execution_count": null,
   "metadata": {},
   "outputs": [],
   "source": []
  }
 ],
 "metadata": {
  "kernelspec": {
   "display_name": "Python 3",
   "language": "python",
   "name": "python3"
  },
  "language_info": {
   "codemirror_mode": {
    "name": "ipython",
    "version": 3
   },
   "file_extension": ".py",
   "mimetype": "text/x-python",
   "name": "python",
   "nbconvert_exporter": "python",
   "pygments_lexer": "ipython3",
   "version": "3.12.2"
  }
 },
 "nbformat": 4,
 "nbformat_minor": 2
}
