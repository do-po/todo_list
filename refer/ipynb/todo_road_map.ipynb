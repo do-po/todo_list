{
 "cells": [
  {
   "cell_type": "markdown",
   "metadata": {},
   "source": [
    "## 필요한 파일, 라이브러리 로드"
   ]
  },
  {
   "cell_type": "markdown",
   "metadata": {},
   "source": [
    "### 라이브러리 로드"
   ]
  },
  {
   "cell_type": "code",
   "execution_count": 8,
   "metadata": {},
   "outputs": [],
   "source": [
    "import pandas as pd\n",
    "from flask import Flask, render_template, request, redirect\n",
    "# 함수가 저장된 모듈 로드\n",
    "from refer.module import func\n",
    "from refer.module.database import MyDB\n",
    "\n",
    "db = MyDB()"
   ]
  },
  {
   "cell_type": "markdown",
   "metadata": {},
   "source": [
    "## Flask로 서버 구축"
   ]
  },
  {
   "cell_type": "code",
   "execution_count": 4,
   "metadata": {},
   "outputs": [],
   "source": [
    "app = Flask(__name__)"
   ]
  },
  {
   "cell_type": "markdown",
   "metadata": {},
   "source": [
    "## 속성별 카테고리 가중치\n",
    "\n",
    "- 유저발 데이터\n",
    "    - 나이\n",
    "    - 성별\n",
    "    - 직업\n",
    "    - mbti\n",
    "    - 달성 목표\n",
    "        - 달성 목표의 카테고리 (6가지 구분)\n",
    "        - 달성 목표의 진행 정도 (0 to 1 실수로 받기 ?)\n",
    "\n",
    "- 기본 기준 설정\n",
    "    - 유사 업무를 연결해서 할 수 있도록 일정 조율\n",
    "    - 루틴 todo와의 연관성 고려\n",
    "    - 빈 시간을 확인하고 해당 시간에 수행 추정 시간과 어울리는 todo 제안"
   ]
  },
  {
   "cell_type": "markdown",
   "metadata": {},
   "source": [
    "### 유저발 데이터 **(지금 random 들어가 있음)"
   ]
  },
  {
   "cell_type": "markdown",
   "metadata": {},
   "source": [
    "#### 유저의 회원가입으로 DB에 회원 가입 내용 저장"
   ]
  },
  {
   "cell_type": "code",
   "execution_count": null,
   "metadata": {},
   "outputs": [],
   "source": [
    "# 로그인을 위해 post로 보내진 회원 가입 데이터 가져오기\n",
    "\n",
    "@app.route('/sign_up', methods=['post'])\n",
    "\n",
    "# 로그인\n",
    "def sign_up():\n",
    "\n",
    "    # post로 form에 보내진 로그인 데이터 가져오기\n",
    "    user_info = request.form\n",
    "\n",
    "    _id = user_info['user_id']\n",
    "    _pass = user_info['password']\n",
    "\n",
    "    # 로그로그\n",
    "    print(f'유저가 보낸 id : {_id}, 유저가 보낸 비밀번호 : {_pass}')\n",
    "\n",
    "    query = '''\n",
    "        select\n",
    "        `user_id`\n",
    "        and\n",
    "        `password`\n",
    "        from\n",
    "        `user_info`\n",
    "        where\n",
    "        `user_id` = %s and `password` = %s\n",
    "        '''\n",
    "    \n",
    "    result = db."
   ]
  },
  {
   "cell_type": "code",
   "execution_count": null,
   "metadata": {},
   "outputs": [],
   "source": [
    "# 회원 가입 데이터 `user_info`에 저장하기\n",
    "\n",
    "func.save_data(sign_up_data, 'user_info')"
   ]
  },
  {
   "cell_type": "code",
   "execution_count": 3,
   "metadata": {},
   "outputs": [],
   "source": [
    "# `user_info`에 저장된 유저의 데이터 불러오기\n",
    "\n",
    "func.get_data(sign_up_data, 'user_info')"
   ]
  },
  {
   "cell_type": "markdown",
   "metadata": {},
   "source": [
    "## 유저 데이터 카테고리 가중치"
   ]
  },
  {
   "cell_type": "markdown",
   "metadata": {},
   "source": [
    "### 설문조사\n",
    "\n",
    "- 데이터를 csv로 로드해 테이블(DateFrame)에서 가중치 합산(방법은 변경 가능)"
   ]
  },
  {
   "cell_type": "markdown",
   "metadata": {},
   "source": [
    "#### 데이터 csv로 로드"
   ]
  },
  {
   "cell_type": "code",
   "execution_count": null,
   "metadata": {},
   "outputs": [],
   "source": []
  },
  {
   "cell_type": "markdown",
   "metadata": {},
   "source": [
    "#### 데이터 오버샘플링\n",
    "\n",
    "- 어떤 샘플링 기법 사용할 지 ?"
   ]
  },
  {
   "cell_type": "code",
   "execution_count": null,
   "metadata": {},
   "outputs": [],
   "source": []
  },
  {
   "cell_type": "markdown",
   "metadata": {},
   "source": [
    "## 기초 알고리즘 파트\n",
    "\n",
    "- 속성별 카테고리 가중치\n",
    "- 설문조사에서 얻은 카테고리 가중치\n",
    "    - 설문조사 데이터는 오버 샘플링으로 데이터량 늘리기\n",
    "\n",
    "- 두 가지 데이터를 기반으로 카테고리 가중치 합산\n",
    "    - 합산한 수치를 기반으로 우선순위 작성"
   ]
  },
  {
   "cell_type": "code",
   "execution_count": null,
   "metadata": {},
   "outputs": [],
   "source": []
  },
  {
   "cell_type": "markdown",
   "metadata": {},
   "source": [
    "## 학습 알고리즘\n",
    "\n",
    "- 유저의 행동데이터를 받아와서 기초 알고리즘의 가중치들 수정\n",
    "- 메인 알고리즘을 작성하여 유저들의 속성과 그 행동 데이터들 만으로 가중치 설정\n",
    "    - 유저의 향후 행동 데이터를 계속 학습"
   ]
  },
  {
   "cell_type": "markdown",
   "metadata": {},
   "source": [
    "### 행동 데이터 (유저 선택의 결과)\n",
    "\n",
    "- 유저가 일정을 변경하는 버튼을 따로 만들고, 이 버튼(일정 확정)이 푸시 되었을 때와 그 전을 비교해서 가중치에 수정을 가한다\n",
    "- 유저가 자유롭게 일정을 드래그 & 드롭으로 수정할 수 있게 만들고, 수정된 것에 대한 가중치를 수집한다 (이런 경우엔 세션 종료 시 변경 여부를 가져와서 가중치 수정을 가하는 방법이겠지 ??)\n",
    "- todo를 루틴과 루틴이 아닌 것으로 구분\n",
    "\n",
    "- 유저가 많이 수행하는 todo의 카테고리를 잡고, 해당 카테고리에서 벗어나는 카테고리를 주의 카테고리로 설정"
   ]
  },
  {
   "cell_type": "code",
   "execution_count": null,
   "metadata": {},
   "outputs": [],
   "source": []
  },
  {
   "cell_type": "markdown",
   "metadata": {},
   "source": [
    "### 기초 알고리즘 가중치 수정\n",
    "\n"
   ]
  },
  {
   "cell_type": "code",
   "execution_count": null,
   "metadata": {},
   "outputs": [],
   "source": []
  },
  {
   "cell_type": "markdown",
   "metadata": {},
   "source": [
    "### 메인 알고리즘 구현"
   ]
  },
  {
   "cell_type": "markdown",
   "metadata": {},
   "source": [
    "## 구현해야 하는 기능들\n",
    "\n",
    "- Todo를 루틴으로 만드는 기능\n",
    "- Todo 보관함\n",
    "- 드래그 & 드롭 / 일정 변경 버튼\n",
    "- 시간 슬라이싱\n",
    "    - todo별 추정 수행 시간을 잡아두고 예상 시간별로 플랜 잡아주기\n",
    "    - 추정 수행 시간은 어떤 데이터를 활용해 설정할 것 ??\n",
    "\n",
    "\n",
    "- 임베드"
   ]
  },
  {
   "cell_type": "code",
   "execution_count": 6,
   "metadata": {},
   "outputs": [
    {
     "ename": "SyntaxError",
     "evalue": "incomplete input (662843925.py, line 2)",
     "output_type": "error",
     "traceback": [
      "\u001b[1;36m  Cell \u001b[1;32mIn[6], line 2\u001b[1;36m\u001b[0m\n\u001b[1;33m    @app.run(debug=True)\u001b[0m\n\u001b[1;37m                        ^\u001b[0m\n\u001b[1;31mSyntaxError\u001b[0m\u001b[1;31m:\u001b[0m incomplete input\n"
     ]
    }
   ],
   "source": [
    "# 서버 오픈 및 디버깅\n",
    "app.run(debug=True)"
   ]
  },
  {
   "cell_type": "markdown",
   "metadata": {},
   "source": []
  }
 ],
 "metadata": {
  "kernelspec": {
   "display_name": "Python 3",
   "language": "python",
   "name": "python3"
  },
  "language_info": {
   "codemirror_mode": {
    "name": "ipython",
    "version": 3
   },
   "file_extension": ".py",
   "mimetype": "text/x-python",
   "name": "python",
   "nbconvert_exporter": "python",
   "pygments_lexer": "ipython3",
   "version": "3.12.2"
  }
 },
 "nbformat": 4,
 "nbformat_minor": 2
}
