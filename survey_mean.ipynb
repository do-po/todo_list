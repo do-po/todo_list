{
 "cells": [
  {
   "cell_type": "code",
   "execution_count": 2,
   "metadata": {},
   "outputs": [],
   "source": [
    "import pandas as pd\n",
    "file_path = './refer/output/'"
   ]
  },
  {
   "cell_type": "markdown",
   "metadata": {},
   "source": [
    "#### age"
   ]
  },
  {
   "cell_type": "code",
   "execution_count": null,
   "metadata": {},
   "outputs": [],
   "source": [
    "# 데이터 로드\n",
    "file_path = 'processing_survey.csv'\n",
    "survey_df = pd.read_csv(file_path)\n",
    "\n",
    "# 나이 범위를 문자열로 변환\n",
    "survey_df['age_range'] = pd.cut(survey_df['age'], bins=[0, 14, 19, 24, 29, 45], labels=['0-14', '15-19', '20-24', '25-29', '30-45'])\n",
    "\n",
    "# 나이 범위별 평균 계산\n",
    "age_mean = survey_df.groupby('age_range').mean().drop(columns=['age', 'job', 'gender','mbti'])\n",
    "\n",
    "# 결과 출력\n",
    "print(age_mean)\n",
    "\n",
    "# 결과를 파일로 저장 (필요 시)\n",
    "age_mean.to_csv('age_averages.csv')"
   ]
  },
  {
   "cell_type": "markdown",
   "metadata": {},
   "source": [
    "#### gender"
   ]
  },
  {
   "cell_type": "code",
   "execution_count": null,
   "metadata": {},
   "outputs": [],
   "source": [
    "# 데이터 로드\n",
    "file_path = 'processing_survey3.csv'\n",
    "survey_df = pd.read_csv(file_path)\n",
    "\n",
    "# gender 컬럼을 기준으로 평균 계산\n",
    "gender_mean = survey_df.groupby('gender').mean()\n",
    "\n",
    "# 사용하지 않을 컬럼 드롭 (원하는 경우)\n",
    "columns_to_drop = ['age', 'job', 'mbti']\n",
    "gender_mean.drop(columns=columns_to_drop, inplace=True)\n",
    "\n",
    "# 결과 출력\n",
    "print(gender_mean)\n",
    "\n",
    "# 결과를 파일로 저장 (필요 시)\n",
    "gender_mean.to_csv('gender_averages.csv')\n"
   ]
  },
  {
   "cell_type": "markdown",
   "metadata": {},
   "source": [
    "#### job"
   ]
  },
  {
   "cell_type": "code",
   "execution_count": null,
   "metadata": {},
   "outputs": [],
   "source": [
    "# 데이터 로드\n",
    "file_path = 'processing_survey3.csv'\n",
    "survey_df = pd.read_csv(file_path)\n",
    "\n",
    "# job 컬럼을 세자리수 문자열로 변환\n",
    "survey_df['job'] = survey_df['job'].apply(lambda x: f\"{int(x):03d}\")\n",
    "\n",
    "# 직업별 평균 계산 (age, job, gender 컬럼 제외)\n",
    "job_mean = survey_df.groupby('job').mean().drop(columns=['age', 'gender','mbti'])\n",
    "\n",
    "# 결과 출력\n",
    "print(job_mean)\n",
    "\n",
    "# 결과를 파일로 저장 (필요 시)\n",
    "job_mean.to_csv('job_averages.csv')"
   ]
  },
  {
   "cell_type": "markdown",
   "metadata": {},
   "source": [
    "#### mbti"
   ]
  },
  {
   "cell_type": "code",
   "execution_count": null,
   "metadata": {},
   "outputs": [],
   "source": [
    "# 데이터 로드\n",
    "file_path = 'processing_survey3.csv'\n",
    "survey_df = pd.read_csv(file_path)\n",
    "\n",
    "# mbti 컬럼을 두자리수 문자열로 변환\n",
    "survey_df['mbti'] = survey_df['mbti'].apply(lambda x: f\"{int(x):02d}\")\n",
    "\n",
    "# MBTI별 평균 계산 (age, job, gender 컬럼 제외)\n",
    "mbti_mean = survey_df.groupby('mbti').mean().drop(columns=['age','job' ,'gender'])\n",
    "\n",
    "# 결과 출력\n",
    "print(mbti_mean)\n",
    "\n",
    "# 결과를 파일로 저장 (필요 시)\n",
    "mbti_mean.to_csv('mbti_averages.csv')"
   ]
  },
  {
   "cell_type": "markdown",
   "metadata": {},
   "source": [
    "-----------------"
   ]
  },
  {
   "cell_type": "markdown",
   "metadata": {},
   "source": [
    "### base_data와 survey_data 통합\n",
    "- 논문에서 근거를 얻어 작성한 base_data와 survey_data의 평균을 통합\n",
    "- 하나의 테이블인 base_weight로 작성"
   ]
  },
  {
   "cell_type": "code",
   "execution_count": 32,
   "metadata": {},
   "outputs": [],
   "source": [
    "# 모든 업로드된 파일을 로드\n",
    "file_path = './refer/output'\n",
    "\n",
    "base_age = pd.read_csv(f'{file_path}/base_age.csv')\n",
    "base_gender = pd.read_csv(f'{file_path}/base_gender.csv')\n",
    "base_job = pd.read_csv(f'{file_path}/base_job.csv')\n",
    "base_mbti = pd.read_csv(f'{file_path}/base_mbti.csv')\n",
    "survey_gender = pd.read_csv(f'{file_path}/survey_gender.csv')\n",
    "survey_job = pd.read_csv(f'{file_path}/survey_job.csv')\n",
    "survey_mbti = pd.read_csv(f'{file_path}/survey_mbti.csv')\n",
    "survey_age = pd.read_csv(f'{file_path}/survey_age.csv')"
   ]
  },
  {
   "cell_type": "code",
   "execution_count": null,
   "metadata": {},
   "outputs": [],
   "source": [
    "# 데이터프레임을 각 카테고리별로 연결\n",
    "age = pd.concat([base_age, survey_age]).reset_index(drop=True)\n",
    "gender = pd.concat([base_gender, survey_gender]).reset_index(drop=True)\n",
    "job = pd.concat([base_job, survey_job]).reset_index(drop=True)\n",
    "mbti = pd.concat([base_mbti, survey_mbti]).reset_index(drop=True)"
   ]
  },
  {
   "cell_type": "code",
   "execution_count": null,
   "metadata": {},
   "outputs": [],
   "source": [
    "# 각 데이터프레임을 'age', 'gender', 'job', 'mbti' 열을 기준으로 그룹화하고 각 그룹의 평균을 계산\n",
    "age_avg = age.groupby('age').mean().reset_index()\n",
    "gender_avg = gender.groupby('gender').mean().reset_index()\n",
    "job_avg = job.groupby('job').mean().reset_index()\n",
    "mbti_avg = mbti.groupby('mbti').mean().reset_index()"
   ]
  },
  {
   "cell_type": "code",
   "execution_count": null,
   "metadata": {},
   "outputs": [],
   "source": [
    "# Cartesian product 병합을 위해 'key' 열 추가\n",
    "age_avg['key'] = 1\n",
    "gender_avg['key'] = 1\n",
    "job_avg['key'] = 1\n",
    "mbti_avg['key'] = 1"
   ]
  },
  {
   "cell_type": "code",
   "execution_count": null,
   "metadata": {},
   "outputs": [],
   "source": [
    "# 'key' 열을 기준으로 병합 수행\n",
    "merged = age_avg.merge(gender_avg, on='key', suffixes=('', '_gender'))\n",
    "merged = merged.merge(job_avg, on='key', suffixes=('', '_job'))\n",
    "merged = merged.merge(mbti_avg, on='key', suffixes=('', '_mbti'))\n",
    "\n",
    "# 병합 후 'key' 열 제거\n",
    "merged = merged.drop(columns=['key'])"
   ]
  },
  {
   "cell_type": "code",
   "execution_count": null,
   "metadata": {},
   "outputs": [],
   "source": [
    "# 'work', 'edu', 'free_time', 'health', 'chores', 'category_else' 열의 값을 합산하여 새로운 열 생성\n",
    "columns_to_sum = ['work', 'edu', 'free_time', 'health', 'chores', 'category_else']\n",
    "for col in columns_to_sum:\n",
    "    merged[col] = merged[[f'{col}', f'{col}_gender', f'{col}_job', f'{col}_mbti']].sum(axis=1)\n",
    "\n",
    "# 최종 결과 데이터프레임 생성 (필요한 열들만 선택)\n",
    "final_result = merged[['age', 'gender', 'job', 'mbti', 'work', 'edu', 'free_time', 'health', 'chores', 'category_else']]"
   ]
  },
  {
   "cell_type": "code",
   "execution_count": null,
   "metadata": {},
   "outputs": [],
   "source": [
    "# 결과를 CSV 파일로 저장\n",
    "final_result.to_csv(f'{file_path}/base_weight.csv', index=False)"
   ]
  },
  {
   "cell_type": "code",
   "execution_count": null,
   "metadata": {},
   "outputs": [],
   "source": []
  }
 ],
 "metadata": {
  "kernelspec": {
   "display_name": "Python 3",
   "language": "python",
   "name": "python3"
  },
  "language_info": {
   "codemirror_mode": {
    "name": "ipython",
    "version": 3
   },
   "file_extension": ".py",
   "mimetype": "text/x-python",
   "name": "python",
   "nbconvert_exporter": "python",
   "pygments_lexer": "ipython3",
   "version": "3.12.2"
  }
 },
 "nbformat": 4,
 "nbformat_minor": 2
}
